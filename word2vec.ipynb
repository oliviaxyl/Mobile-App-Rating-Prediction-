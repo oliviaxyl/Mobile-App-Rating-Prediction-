{
 "cells": [
  {
   "cell_type": "code",
   "execution_count": 1,
   "metadata": {},
   "outputs": [],
   "source": [
    "import re\n",
    "import pandas as pd\n",
    "import os\n",
    "from time import time  # To time our operations\n",
    "from collections import defaultdict  # For word frequency\n",
    "import logging  # Setting up the loggings to monitor gensim\n",
    "import multiprocessing\n",
    "from gensim.models import Word2Vec\n",
    "import spacy\n",
    "import numpy as np\n",
    "from matplotlib import pyplot as plt"
   ]
  },
  {
   "cell_type": "code",
   "execution_count": 2,
   "metadata": {},
   "outputs": [],
   "source": [
    "os.getcwd()\n",
    "os.chdir('/Users/olivia/Desktop/Data Mining&Stat Learn/Projects/Final project') "
   ]
  },
  {
   "cell_type": "code",
   "execution_count": 3,
   "metadata": {},
   "outputs": [
    {
     "data": {
      "text/html": [
       "<div>\n",
       "<style scoped>\n",
       "    .dataframe tbody tr th:only-of-type {\n",
       "        vertical-align: middle;\n",
       "    }\n",
       "\n",
       "    .dataframe tbody tr th {\n",
       "        vertical-align: top;\n",
       "    }\n",
       "\n",
       "    .dataframe thead th {\n",
       "        text-align: right;\n",
       "    }\n",
       "</style>\n",
       "<table border=\"1\" class=\"dataframe\">\n",
       "  <thead>\n",
       "    <tr style=\"text-align: right;\">\n",
       "      <th></th>\n",
       "      <th>id</th>\n",
       "      <th>track_name</th>\n",
       "      <th>size_bytes</th>\n",
       "      <th>app_desc</th>\n",
       "    </tr>\n",
       "  </thead>\n",
       "  <tbody>\n",
       "    <tr>\n",
       "      <th>0</th>\n",
       "      <td>281656475</td>\n",
       "      <td>PAC-MAN Premium</td>\n",
       "      <td>100788224</td>\n",
       "      <td>SAVE 20%, now only $3.99 for a limited time!\\n...</td>\n",
       "    </tr>\n",
       "    <tr>\n",
       "      <th>1</th>\n",
       "      <td>281796108</td>\n",
       "      <td>Evernote - stay organized</td>\n",
       "      <td>158578688</td>\n",
       "      <td>Let Evernote change the way you organize your ...</td>\n",
       "    </tr>\n",
       "    <tr>\n",
       "      <th>2</th>\n",
       "      <td>281940292</td>\n",
       "      <td>WeatherBug - Local Weather, Radar, Maps, Alerts</td>\n",
       "      <td>100524032</td>\n",
       "      <td>Download the most popular free weather app pow...</td>\n",
       "    </tr>\n",
       "    <tr>\n",
       "      <th>3</th>\n",
       "      <td>282614216</td>\n",
       "      <td>eBay: Best App to Buy, Sell, Save! Online Shop...</td>\n",
       "      <td>128512000</td>\n",
       "      <td>The eBay app is the best way to find anything ...</td>\n",
       "    </tr>\n",
       "    <tr>\n",
       "      <th>4</th>\n",
       "      <td>282935706</td>\n",
       "      <td>Bible</td>\n",
       "      <td>92774400</td>\n",
       "      <td>On more than 250 million devices around the wo...</td>\n",
       "    </tr>\n",
       "  </tbody>\n",
       "</table>\n",
       "</div>"
      ],
      "text/plain": [
       "          id                                         track_name  size_bytes  \\\n",
       "0  281656475                                    PAC-MAN Premium   100788224   \n",
       "1  281796108                          Evernote - stay organized   158578688   \n",
       "2  281940292    WeatherBug - Local Weather, Radar, Maps, Alerts   100524032   \n",
       "3  282614216  eBay: Best App to Buy, Sell, Save! Online Shop...   128512000   \n",
       "4  282935706                                              Bible    92774400   \n",
       "\n",
       "                                            app_desc  \n",
       "0  SAVE 20%, now only $3.99 for a limited time!\\n...  \n",
       "1  Let Evernote change the way you organize your ...  \n",
       "2  Download the most popular free weather app pow...  \n",
       "3  The eBay app is the best way to find anything ...  \n",
       "4  On more than 250 million devices around the wo...  "
      ]
     },
     "execution_count": 3,
     "metadata": {},
     "output_type": "execute_result"
    }
   ],
   "source": [
    "mobile = pd.read_csv(r\"appleStore_description.csv\")\n",
    "mobile.head()"
   ]
  },
  {
   "cell_type": "code",
   "execution_count": 4,
   "metadata": {},
   "outputs": [
    {
     "data": {
      "text/plain": [
       "(7197, 4)"
      ]
     },
     "execution_count": 4,
     "metadata": {},
     "output_type": "execute_result"
    }
   ],
   "source": [
    "mobile.shape"
   ]
  },
  {
   "cell_type": "code",
   "execution_count": 5,
   "metadata": {},
   "outputs": [
    {
     "data": {
      "text/plain": [
       "id            0\n",
       "track_name    0\n",
       "size_bytes    0\n",
       "app_desc      0\n",
       "dtype: int64"
      ]
     },
     "execution_count": 5,
     "metadata": {},
     "output_type": "execute_result"
    }
   ],
   "source": [
    "mobile.isnull().sum()"
   ]
  },
  {
   "cell_type": "code",
   "execution_count": 6,
   "metadata": {},
   "outputs": [],
   "source": [
    "nlp = spacy.load('en', disable=['ner', 'parser']) \n",
    "# disabling Named Entity Recognition for speed\n",
    "def cleaning(doc):\n",
    "    # Lemmatizes and removes stopwords\n",
    "    # doc needs to be a spacy Doc object\n",
    "    txt = [token.lemma_ for token in doc if not token.is_stop]\n",
    "    # Word2Vec uses context words to learn the vector representation of a target word.\n",
    "    # if a sentence is only one or two words long,\n",
    "    # the benefit for the training is very small\n",
    "    if len(txt) > 2:\n",
    "        return ' '.join(txt)"
   ]
  },
  {
   "cell_type": "code",
   "execution_count": 7,
   "metadata": {},
   "outputs": [],
   "source": [
    "brief_cleaning = (re.sub(\"[^A-Za-z']+\", ' ', str(row)).lower() for row in \n",
    "                  mobile['app_desc'])"
   ]
  },
  {
   "cell_type": "code",
   "execution_count": 8,
   "metadata": {},
   "outputs": [
    {
     "name": "stdout",
     "output_type": "stream",
     "text": [
      "Time to clean up everything: 1.57 mins\n"
     ]
    }
   ],
   "source": [
    "t = time()\n",
    "txt = [cleaning(doc) for doc in nlp.pipe(brief_cleaning, batch_size=5000, \n",
    "                                         n_threads=-1)]\n",
    "print('Time to clean up everything: {} mins'.format(round((time() - t) / 60, 2)))"
   ]
  },
  {
   "cell_type": "code",
   "execution_count": 9,
   "metadata": {},
   "outputs": [
    {
     "data": {
      "text/plain": [
       "(6834, 1)"
      ]
     },
     "execution_count": 9,
     "metadata": {},
     "output_type": "execute_result"
    }
   ],
   "source": [
    "mobile_clean = pd.DataFrame({'clean': txt})\n",
    "mobile_clean = mobile_clean.dropna().drop_duplicates()\n",
    "mobile_clean.shape"
   ]
  },
  {
   "cell_type": "code",
   "execution_count": 10,
   "metadata": {},
   "outputs": [
    {
     "data": {
      "text/html": [
       "<div>\n",
       "<style scoped>\n",
       "    .dataframe tbody tr th:only-of-type {\n",
       "        vertical-align: middle;\n",
       "    }\n",
       "\n",
       "    .dataframe tbody tr th {\n",
       "        vertical-align: top;\n",
       "    }\n",
       "\n",
       "    .dataframe thead th {\n",
       "        text-align: right;\n",
       "    }\n",
       "</style>\n",
       "<table border=\"1\" class=\"dataframe\">\n",
       "  <thead>\n",
       "    <tr style=\"text-align: right;\">\n",
       "      <th></th>\n",
       "      <th>clean</th>\n",
       "    </tr>\n",
       "  </thead>\n",
       "  <tbody>\n",
       "    <tr>\n",
       "      <th>0</th>\n",
       "      <td>save limited time popular video game arcade hi...</td>\n",
       "    </tr>\n",
       "    <tr>\n",
       "      <th>1</th>\n",
       "      <td>let evernote change way organize personal prof...</td>\n",
       "    </tr>\n",
       "    <tr>\n",
       "      <th>2</th>\n",
       "      <td>download popular free weather app power large ...</td>\n",
       "    </tr>\n",
       "    <tr>\n",
       "      <th>3</th>\n",
       "      <td>ebay app good way find need dress handbag fash...</td>\n",
       "    </tr>\n",
       "    <tr>\n",
       "      <th>4</th>\n",
       "      <td>million device world people read listen watch ...</td>\n",
       "    </tr>\n",
       "    <tr>\n",
       "      <th>5</th>\n",
       "      <td>winner good game rd place winner good app ho...</td>\n",
       "    </tr>\n",
       "  </tbody>\n",
       "</table>\n",
       "</div>"
      ],
      "text/plain": [
       "                                               clean\n",
       "0  save limited time popular video game arcade hi...\n",
       "1  let evernote change way organize personal prof...\n",
       "2  download popular free weather app power large ...\n",
       "3  ebay app good way find need dress handbag fash...\n",
       "4  million device world people read listen watch ...\n",
       "5    winner good game rd place winner good app ho..."
      ]
     },
     "execution_count": 10,
     "metadata": {},
     "output_type": "execute_result"
    }
   ],
   "source": [
    "mobile_clean.head(6)"
   ]
  },
  {
   "cell_type": "code",
   "execution_count": 11,
   "metadata": {},
   "outputs": [],
   "source": [
    "from gensim.models.phrases import Phrases, Phraser"
   ]
  },
  {
   "cell_type": "code",
   "execution_count": 12,
   "metadata": {},
   "outputs": [],
   "source": [
    "sent = [row.split() for row in mobile_clean['clean']]"
   ]
  },
  {
   "cell_type": "code",
   "execution_count": 13,
   "metadata": {},
   "outputs": [],
   "source": [
    "phrases = Phrases(sent, min_count=10, progress_per=1000) "
   ]
  },
  {
   "cell_type": "code",
   "execution_count": 14,
   "metadata": {},
   "outputs": [],
   "source": [
    "bigram = Phraser(phrases)"
   ]
  },
  {
   "cell_type": "code",
   "execution_count": 15,
   "metadata": {},
   "outputs": [],
   "source": [
    "sentences = bigram[sent]"
   ]
  },
  {
   "cell_type": "code",
   "execution_count": 16,
   "metadata": {},
   "outputs": [
    {
     "data": {
      "text/plain": [
       "39897"
      ]
     },
     "execution_count": 16,
     "metadata": {},
     "output_type": "execute_result"
    }
   ],
   "source": [
    "word_freq = defaultdict(int)\n",
    "for sent in sentences:\n",
    "    for i in sent:\n",
    "        word_freq[i] += 1\n",
    "len(word_freq)"
   ]
  },
  {
   "cell_type": "code",
   "execution_count": 17,
   "metadata": {},
   "outputs": [
    {
     "data": {
      "text/plain": [
       "12568"
      ]
     },
     "execution_count": 17,
     "metadata": {},
     "output_type": "execute_result"
    }
   ],
   "source": [
    "word_freq['game']"
   ]
  },
  {
   "cell_type": "code",
   "execution_count": 18,
   "metadata": {},
   "outputs": [
    {
     "data": {
      "text/plain": [
       "1229"
      ]
     },
     "execution_count": 18,
     "metadata": {},
     "output_type": "execute_result"
    }
   ],
   "source": [
    "word_freq['adventure']"
   ]
  },
  {
   "cell_type": "code",
   "execution_count": 19,
   "metadata": {},
   "outputs": [
    {
     "data": {
      "text/plain": [
       "['game', 'app', 'play', 'new', 's', 'feature', 'com', 'world', 'use', 'time']"
      ]
     },
     "execution_count": 19,
     "metadata": {},
     "output_type": "execute_result"
    }
   ],
   "source": [
    "sorted(word_freq, key=word_freq.get, reverse=True)[:10]"
   ]
  },
  {
   "cell_type": "code",
   "execution_count": 20,
   "metadata": {},
   "outputs": [],
   "source": [
    "#word_freq"
   ]
  },
  {
   "cell_type": "code",
   "execution_count": 21,
   "metadata": {},
   "outputs": [],
   "source": [
    "cores = multiprocessing.cpu_count() # Count the number of cores in a computer"
   ]
  },
  {
   "cell_type": "code",
   "execution_count": 22,
   "metadata": {},
   "outputs": [],
   "source": [
    "w2v_model = Word2Vec(min_count=20,\n",
    "                     window=2,\n",
    "                     size=100,\n",
    "                     sample=6e-5, \n",
    "                     alpha=0.03, \n",
    "                     min_alpha=0.0007, \n",
    "                     negative=20,\n",
    "                     workers=cores-1)"
   ]
  },
  {
   "cell_type": "code",
   "execution_count": 23,
   "metadata": {},
   "outputs": [
    {
     "name": "stdout",
     "output_type": "stream",
     "text": [
      "Time to build vocab: 0.05 mins\n"
     ]
    }
   ],
   "source": [
    "t = time()\n",
    "\n",
    "w2v_model.build_vocab(sentences, progress_per=1000)\n",
    "\n",
    "print('Time to build vocab: {} mins'.format(round((time() - t) / 60, 2)))"
   ]
  },
  {
   "cell_type": "code",
   "execution_count": 24,
   "metadata": {},
   "outputs": [
    {
     "name": "stdout",
     "output_type": "stream",
     "text": [
      "Time to train the model: 1.64 mins\n"
     ]
    }
   ],
   "source": [
    "t = time()\n",
    "\n",
    "w2v_model.train(sentences, total_examples=w2v_model.corpus_count, epochs=30, \n",
    "                report_delay=1)\n",
    "\n",
    "print('Time to train the model: {} mins'.format(round((time() - t) / 60, 2)))"
   ]
  },
  {
   "cell_type": "code",
   "execution_count": 25,
   "metadata": {},
   "outputs": [],
   "source": [
    "w2v_model.init_sims(replace=True)"
   ]
  },
  {
   "cell_type": "code",
   "execution_count": 26,
   "metadata": {},
   "outputs": [],
   "source": [
    "words = list(w2v_model.wv.vocab)\n",
    "#print(words)"
   ]
  },
  {
   "cell_type": "code",
   "execution_count": 27,
   "metadata": {},
   "outputs": [],
   "source": [
    "#print(w2v_model['game']) #size=100"
   ]
  },
  {
   "cell_type": "code",
   "execution_count": 28,
   "metadata": {},
   "outputs": [],
   "source": [
    "w2v_model.wv.save_word2vec_format('model.bin',binary=False)"
   ]
  },
  {
   "cell_type": "code",
   "execution_count": 29,
   "metadata": {},
   "outputs": [],
   "source": [
    "game = w2v_model.wv.most_similar(positive=[\"game\"],)"
   ]
  },
  {
   "cell_type": "code",
   "execution_count": 30,
   "metadata": {},
   "outputs": [
    {
     "data": {
      "text/plain": [
       "[('addictive', 0.5528801679611206),\n",
       " ('gameplay', 0.5200115442276001),\n",
       " ('arcade_style', 0.5196410417556763),\n",
       " ('fun_addictive', 0.5154783725738525),\n",
       " ('addicting', 0.5084647536277771),\n",
       " ('entertaining', 0.5078068375587463),\n",
       " ('physics_base', 0.4913872480392456),\n",
       " ('play', 0.48764297366142273),\n",
       " ('slidetoplay', 0.48269978165626526),\n",
       " ('blitz', 0.47887083888053894)]"
      ]
     },
     "execution_count": 30,
     "metadata": {},
     "output_type": "execute_result"
    }
   ],
   "source": [
    "game"
   ]
  },
  {
   "cell_type": "code",
   "execution_count": 31,
   "metadata": {},
   "outputs": [
    {
     "data": {
      "text/plain": [
       "[('local_multiplayer', 0.5993112325668335),\n",
       " ('arcade_mode', 0.5951459407806396),\n",
       " ('enjoy', 0.5648280382156372),\n",
       " ('asynchronous', 0.5374651551246643),\n",
       " ('split_screen', 0.5316224098205566),\n",
       " ('player', 0.5229854583740234),\n",
       " ('fun', 0.5155184268951416),\n",
       " ('ai_opponent', 0.5128617286682129),\n",
       " ('multiplayer_mode', 0.5076355934143066),\n",
       " ('online_multiplayer', 0.502300500869751)]"
      ]
     },
     "execution_count": 31,
     "metadata": {},
     "output_type": "execute_result"
    }
   ],
   "source": [
    "w2v_model.wv.most_similar(positive=[\"play\"],)"
   ]
  },
  {
   "cell_type": "code",
   "execution_count": 32,
   "metadata": {},
   "outputs": [
    {
     "data": {
      "text/plain": [
       "[('puzzler', 0.7122789621353149),\n",
       " ('mind_blow', 0.6639015674591064),\n",
       " ('slidetoplay', 0.6565843820571899),\n",
       " ('difficult_master', 0.6513079404830933),\n",
       " ('kart', 0.644499659538269),\n",
       " ('fast_paced', 0.6402285695075989),\n",
       " ('gorgeous_graphic', 0.6401410102844238),\n",
       " ('platformer', 0.6298312544822693),\n",
       " ('motocross', 0.6296177506446838),\n",
       " ('frantic', 0.6239587664604187)]"
      ]
     },
     "execution_count": 32,
     "metadata": {},
     "output_type": "execute_result"
    }
   ],
   "source": [
    "w2v_model.wv.most_similar(positive=[\"physics_base\"],)"
   ]
  },
  {
   "cell_type": "code",
   "execution_count": 33,
   "metadata": {},
   "outputs": [
    {
     "data": {
      "text/plain": [
       "[('puzzle', 0.7696691155433655),\n",
       " ('riddle', 0.6875176429748535),\n",
       " ('addictive', 0.6519749164581299),\n",
       " ('mind_bend', 0.6412795782089233),\n",
       " ('fun_addictive', 0.6315265893936157),\n",
       " ('challenging', 0.612358808517456),\n",
       " ('puzzle_solve', 0.6011332273483276),\n",
       " ('entertaining', 0.5941802263259888),\n",
       " ('point_click', 0.5937354564666748),\n",
       " ('captivate', 0.5903615951538086)]"
      ]
     },
     "execution_count": 33,
     "metadata": {},
     "output_type": "execute_result"
    }
   ],
   "source": [
    "w2v_model.wv.most_similar(positive=[\"brain_teaser\"],)"
   ]
  },
  {
   "cell_type": "code",
   "execution_count": 34,
   "metadata": {},
   "outputs": [
    {
     "data": {
      "text/plain": [
       "[('asynchronous', 0.7979418039321899),\n",
       " ('co_op', 0.7783390283584595),\n",
       " ('cooperative', 0.7533673048019409),\n",
       " ('online_multiplayer', 0.7527625560760498),\n",
       " ('multiplayer_mode', 0.728319525718689),\n",
       " ('cross_platform', 0.7161744236946106),\n",
       " ('compete_player', 0.7032915353775024),\n",
       " ('versus', 0.6976794600486755),\n",
       " ('head_head', 0.6941928863525391),\n",
       " ('local_multiplayer', 0.6845372915267944)]"
      ]
     },
     "execution_count": 34,
     "metadata": {},
     "output_type": "execute_result"
    }
   ],
   "source": [
    "w2v_model.wv.most_similar(positive=[\"multiplayer\"],)"
   ]
  },
  {
   "cell_type": "code",
   "execution_count": 35,
   "metadata": {},
   "outputs": [
    {
     "data": {
      "text/plain": [
       "[('replay_kit', 0.6659030318260193),\n",
       " ('asynchronous', 0.6538444757461548),\n",
       " ('game_centre', 0.6211212277412415),\n",
       " ('local_multiplayer', 0.6147786378860474),\n",
       " ('difficulty_setting', 0.6124118566513062),\n",
       " ('multiplayer', 0.5999433994293213),\n",
       " ('challenge_friend', 0.5956044793128967),\n",
       " ('mode', 0.5945631265640259),\n",
       " ('head_head', 0.5898910164833069),\n",
       " ('ai_opponent', 0.5892370939254761)]"
      ]
     },
     "execution_count": 35,
     "metadata": {},
     "output_type": "execute_result"
    }
   ],
   "source": [
    "w2v_model.wv.most_similar(positive=[\"split_screen\"])"
   ]
  },
  {
   "cell_type": "code",
   "execution_count": 36,
   "metadata": {},
   "outputs": [
    {
     "data": {
      "text/plain": [
       "[('try_beat', 0.6577693223953247),\n",
       " ('global_leaderboard', 0.6573965549468994),\n",
       " ('high_score', 0.6564264297485352),\n",
       " ('test_skill', 0.6273015141487122),\n",
       " ('ultimate_test', 0.6236104965209961),\n",
       " ('difficulty_mode', 0.6144174337387085),\n",
       " ('challenge', 0.6122860312461853),\n",
       " ('game_centre', 0.6066798567771912),\n",
       " ('challenge_friend', 0.6019773483276367),\n",
       " ('earn_achievement', 0.5955932140350342)]"
      ]
     },
     "execution_count": 36,
     "metadata": {},
     "output_type": "execute_result"
    }
   ],
   "source": [
    "w2v_model.wv.most_similar(positive=[\"arcade_mode\"])"
   ]
  },
  {
   "cell_type": "code",
   "execution_count": 37,
   "metadata": {},
   "outputs": [
    {
     "data": {
      "text/plain": [
       "[('reviewer', 0.4792308211326599),\n",
       " ('techcrunch', 0.4756331443786621),\n",
       " ('ny_time', 0.46086373925209045),\n",
       " ('smarter', 0.4559674561023712),\n",
       " ('accolade', 0.45278650522232056),\n",
       " ('cent', 0.45029497146606445),\n",
       " ('increase', 0.4412265717983246),\n",
       " ('health_fitness', 0.4407627582550049),\n",
       " ('retail', 0.4390009641647339),\n",
       " ('china', 0.4376179277896881)]"
      ]
     },
     "execution_count": 37,
     "metadata": {},
     "output_type": "execute_result"
    }
   ],
   "source": [
    "w2v_model.wv.most_similar(positive=[\"productivity\"])"
   ]
  },
  {
   "cell_type": "code",
   "execution_count": 38,
   "metadata": {},
   "outputs": [
    {
     "data": {
      "text/plain": [
       "[('personal_trainer', 0.7239846587181091),\n",
       " ('bodyweight', 0.7030612230300903),\n",
       " ('training_plan', 0.6801081299781799),\n",
       " ('workout', 0.6785677671432495),\n",
       " ('fizzup', 0.6329860091209412),\n",
       " ('yoga', 0.6312828063964844),\n",
       " ('myfitnesspal', 0.6221705675125122),\n",
       " ('ab', 0.6159507036209106),\n",
       " ('health_fitness', 0.6156076788902283),\n",
       " ('nutrition', 0.5841165781021118)]"
      ]
     },
     "execution_count": 38,
     "metadata": {},
     "output_type": "execute_result"
    }
   ],
   "source": [
    "w2v_model.wv.most_similar(positive=[\"fitness\"])"
   ]
  },
  {
   "cell_type": "code",
   "execution_count": 39,
   "metadata": {},
   "outputs": [
    {
     "data": {
      "text/plain": [
       "0.69644946"
      ]
     },
     "execution_count": 39,
     "metadata": {},
     "output_type": "execute_result"
    }
   ],
   "source": [
    "w2v_model.wv.similarity('asynchronous', 'cross_platform')"
   ]
  },
  {
   "cell_type": "code",
   "execution_count": 4,
   "metadata": {},
   "outputs": [],
   "source": [
    "import numpy as np\n",
    "import matplotlib.pyplot as plt"
   ]
  },
  {
   "cell_type": "code",
   "execution_count": 5,
   "metadata": {},
   "outputs": [
    {
     "data": {
      "text/plain": [
       "([<matplotlib.axis.XTick at 0x7fba61248590>,\n",
       "  <matplotlib.axis.XTick at 0x7fba61693f50>,\n",
       "  <matplotlib.axis.XTick at 0x7fba61693ad0>,\n",
       "  <matplotlib.axis.XTick at 0x7fba6171b790>,\n",
       "  <matplotlib.axis.XTick at 0x7fba6171bc50>,\n",
       "  <matplotlib.axis.XTick at 0x7fba6172c250>,\n",
       "  <matplotlib.axis.XTick at 0x7fba6172c910>,\n",
       "  <matplotlib.axis.XTick at 0x7fba6172c110>,\n",
       "  <matplotlib.axis.XTick at 0x7fba61733050>,\n",
       "  <matplotlib.axis.XTick at 0x7fba61733750>],\n",
       " <a list of 10 Text xticklabel objects>)"
      ]
     },
     "execution_count": 5,
     "metadata": {},
     "output_type": "execute_result"
    },
    {
     "data": {
      "image/png": "[encoded data removed]",
      "text/plain": [
       "<Figure size 432x288 with 1 Axes>"
      ]
     },
     "metadata": {
      "needs_background": "light"
     },
     "output_type": "display_data"
    }
   ],
   "source": [
    "#game\n",
    "height = [0.565, 0.549,0.532, 0.517,0.513,0.505,0.501, 0.496,0.496,0.494]\n",
    "bars = ('gameplay', 'brain_teaser', 'play', 'exhilarate','addicting',\n",
    "        'fun_addictive','mobile_tablet','physics_base','late_update','definitive')\n",
    "y_pos = np.arange(len(bars))\n",
    "palette = plt.get_cmap('Set3')\n",
    "plt.title('\"Game\" Relevant Text')\n",
    "plt.ylabel('Cosine Similarity')\n",
    "# Limits for the Y axis\n",
    "plt.ylim(0,1)\n",
    "# Create names\n",
    "plt.bar(y_pos, height,color=['blue','purple',palette(2),palette(3),palette(4),\n",
    "                             palette(5),palette(6),palette(7),palette(8),'red'])\n",
    "plt.xticks(y_pos, bars,rotation=70)"
   ]
  },
  {
   "cell_type": "code",
   "execution_count": 6,
   "metadata": {},
   "outputs": [
    {
     "data": {
      "text/plain": [
       "([<matplotlib.axis.XTick at 0x7fba617a1710>,\n",
       "  <matplotlib.axis.XTick at 0x7fba60cbfe50>,\n",
       "  <matplotlib.axis.XTick at 0x7fba617a9e10>,\n",
       "  <matplotlib.axis.XTick at 0x7fba61b31710>,\n",
       "  <matplotlib.axis.XTick at 0x7fba61b31c10>,\n",
       "  <matplotlib.axis.XTick at 0x7fba61b39290>,\n",
       "  <matplotlib.axis.XTick at 0x7fba61b39910>,\n",
       "  <matplotlib.axis.XTick at 0x7fba61b397d0>,\n",
       "  <matplotlib.axis.XTick at 0x7fba61b39210>,\n",
       "  <matplotlib.axis.XTick at 0x7fba61b3f090>],\n",
       " <a list of 10 Text xticklabel objects>)"
      ]
     },
     "execution_count": 6,
     "metadata": {},
     "output_type": "execute_result"
    },
    {
     "data": {
      "image/png": "[encoded data removed]",
      "text/plain": [
       "<Figure size 432x288 with 1 Axes>"
      ]
     },
     "metadata": {
      "needs_background": "light"
     },
     "output_type": "display_data"
    }
   ],
   "source": [
    "#play\n",
    "height = [0.584,0.556,0.532,0.531,0.513, 0.501,0.497,0.495,0.494,0.477]\n",
    "bars = ('arcade_mode','enjoy','game','local_multiplayer', 'online_multiplayer',\n",
    "        'split_screen','test_skill','fun','asynchronous','high_score')\n",
    "y_pos = np.arange(len(bars))\n",
    "palette = plt.get_cmap('Set3')\n",
    "plt.title('\"Play\" Relevant Text')\n",
    "plt.ylabel('Cosine Similarity')\n",
    "# Limits for the Y axis\n",
    "plt.ylim(0,1)\n",
    "# Create names\n",
    "plt.bar(y_pos, height,color=['blue','purple',palette(2),palette(3),palette(4),\n",
    "                             palette(5),palette(6),palette(7),palette(8),'red'])\n",
    "plt.xticks(y_pos, bars,rotation=70)"
   ]
  },
  {
   "cell_type": "code",
   "execution_count": 7,
   "metadata": {},
   "outputs": [
    {
     "data": {
      "text/plain": [
       "([<matplotlib.axis.XTick at 0x7fba61b79250>,\n",
       "  <matplotlib.axis.XTick at 0x7fba61b76c10>,\n",
       "  <matplotlib.axis.XTick at 0x7fba61b76950>,\n",
       "  <matplotlib.axis.XTick at 0x7fba61bcf090>,\n",
       "  <matplotlib.axis.XTick at 0x7fba61bcf710>,\n",
       "  <matplotlib.axis.XTick at 0x7fba61bcfd50>,\n",
       "  <matplotlib.axis.XTick at 0x7fba61d83410>,\n",
       "  <matplotlib.axis.XTick at 0x7fba61d83a50>,\n",
       "  <matplotlib.axis.XTick at 0x7fba61d83d90>,\n",
       "  <matplotlib.axis.XTick at 0x7fba61d83810>],\n",
       " <a list of 10 Text xticklabel objects>)"
      ]
     },
     "execution_count": 7,
     "metadata": {},
     "output_type": "execute_result"
    },
    {
     "data": {
      "image/png": "[encoded data removed]",
      "text/plain": [
       "<Figure size 432x288 with 1 Axes>"
      ]
     },
     "metadata": {
      "needs_background": "light"
     },
     "output_type": "display_data"
    }
   ],
   "source": [
    "#physics_base\n",
    "height = [0.745,0.684,0.645,0.632,0.628,0.627,0.622,0.614,0.614,0.612]\n",
    "bars = ('puzzler','difficult_master', 'slidetoplay', 'easy_pick', 'addictive',\n",
    "        'physic', 'frantic', 'arcade_style', 'platformer','fast_paced')\n",
    "y_pos = np.arange(len(bars))\n",
    "palette = plt.get_cmap('Set3')\n",
    "plt.title('\"physics_base\" Relevant Text')\n",
    "plt.ylabel('Cosine Similarity')\n",
    "# Limits for the Y axis\n",
    "plt.ylim(0,1)\n",
    "# Create names\n",
    "plt.bar(y_pos, height,color=['blue','purple',palette(2),palette(3),palette(4),\n",
    "                             palette(5),palette(6),palette(7),palette(8),'red'])\n",
    "plt.xticks(y_pos, bars,rotation=70)"
   ]
  },
  {
   "cell_type": "code",
   "execution_count": 8,
   "metadata": {},
   "outputs": [
    {
     "data": {
      "text/plain": [
       "([<matplotlib.axis.XTick at 0x7fba5f90ce10>,\n",
       "  <matplotlib.axis.XTick at 0x7fba61dc02d0>,\n",
       "  <matplotlib.axis.XTick at 0x7fba61dc0190>,\n",
       "  <matplotlib.axis.XTick at 0x7fba61e7a850>,\n",
       "  <matplotlib.axis.XTick at 0x7fba61e7add0>,\n",
       "  <matplotlib.axis.XTick at 0x7fba61e85450>,\n",
       "  <matplotlib.axis.XTick at 0x7fba61e85ad0>,\n",
       "  <matplotlib.axis.XTick at 0x7fba61e8b190>,\n",
       "  <matplotlib.axis.XTick at 0x7fba61e8b790>,\n",
       "  <matplotlib.axis.XTick at 0x7fba61e8bdd0>],\n",
       " <a list of 10 Text xticklabel objects>)"
      ]
     },
     "execution_count": 8,
     "metadata": {},
     "output_type": "execute_result"
    },
    {
     "data": {
      "image/png": "[encoded data removed]",
      "text/plain": [
       "<Figure size 432x288 with 1 Axes>"
      ]
     },
     "metadata": {
      "needs_background": "light"
     },
     "output_type": "display_data"
    }
   ],
   "source": [
    "#brain_teaser\n",
    "height = [0.726,0.718,0.656,0.633,0.620,0.614,0.613,0.609,0.606,0.601]\n",
    "bars = ('puzzle','riddle', 'mind_bend', 'captivate', 'puzzle_solve',\n",
    "        'fun_addictive', 'delightful', 'entertainment', 'puzzle_adventure','addict')\n",
    "y_pos = np.arange(len(bars))\n",
    "palette = plt.get_cmap('Set3')\n",
    "plt.title('\"brain_teaser\" Relevant Text')\n",
    "plt.ylabel('Cosine Similarity')\n",
    "# Limits for the Y axis\n",
    "plt.ylim(0,1)\n",
    "# Create names\n",
    "plt.bar(y_pos, height,color=['blue','purple',palette(2),palette(3),palette(4),\n",
    "                             palette(5),palette(6),palette(7),palette(8),'red'])\n",
    "plt.xticks(y_pos, bars,rotation=70)"
   ]
  },
  {
   "cell_type": "code",
   "execution_count": 9,
   "metadata": {},
   "outputs": [
    {
     "data": {
      "text/plain": [
       "([<matplotlib.axis.XTick at 0x7fba61b5c490>,\n",
       "  <matplotlib.axis.XTick at 0x7fba61f50950>,\n",
       "  <matplotlib.axis.XTick at 0x7fba61f50690>,\n",
       "  <matplotlib.axis.XTick at 0x7fba61f7fed0>,\n",
       "  <matplotlib.axis.XTick at 0x7fba61f8a490>,\n",
       "  <matplotlib.axis.XTick at 0x7fba61f8aad0>,\n",
       "  <matplotlib.axis.XTick at 0x7fba61f911d0>,\n",
       "  <matplotlib.axis.XTick at 0x7fba61f917d0>,\n",
       "  <matplotlib.axis.XTick at 0x7fba61f91e10>,\n",
       "  <matplotlib.axis.XTick at 0x7fba61f91050>],\n",
       " <a list of 10 Text xticklabel objects>)"
      ]
     },
     "execution_count": 9,
     "metadata": {},
     "output_type": "execute_result"
    },
    {
     "data": {
      "image/png": "[encoded data removed]",
      "text/plain": [
       "<Figure size 432x288 with 1 Axes>"
      ]
     },
     "metadata": {
      "needs_background": "light"
     },
     "output_type": "display_data"
    }
   ],
   "source": [
    "#multiplayer\n",
    "height = [0.804,0.761,0.755,0.753,0.727,0.714,0.692,0.686,0.684,0.678]\n",
    "bars = ('asynchronous','online_multiplayer', 'cooperative', 'co_op', \n",
    "        'multiplayer_mode','cross_platform', 'compete_player', 'ai_opponent', \n",
    "        'head_head','versus')\n",
    "y_pos = np.arange(len(bars))\n",
    "palette = plt.get_cmap('Set3')\n",
    "plt.title('\"multiplayer\" Relevant Text')\n",
    "plt.ylabel('Cosine Similarity')\n",
    "# Limits for the Y axis\n",
    "plt.ylim(0,1)\n",
    "# Create names\n",
    "plt.bar(y_pos, height,color=['blue','purple',palette(2),palette(3),palette(4),\n",
    "                             palette(5),palette(6),palette(7),palette(8),'red'])\n",
    "plt.xticks(y_pos, bars,rotation=70)"
   ]
  },
  {
   "cell_type": "code",
   "execution_count": 10,
   "metadata": {},
   "outputs": [
    {
     "data": {
      "text/plain": [
       "([<matplotlib.axis.XTick at 0x7fba61da0a10>,\n",
       "  <matplotlib.axis.XTick at 0x7fba61fd7090>,\n",
       "  <matplotlib.axis.XTick at 0x7fba61fc9d90>,\n",
       "  <matplotlib.axis.XTick at 0x7fba620a07d0>,\n",
       "  <matplotlib.axis.XTick at 0x7fba620a0d50>,\n",
       "  <matplotlib.axis.XTick at 0x7fba620a7390>,\n",
       "  <matplotlib.axis.XTick at 0x7fba620a78d0>,\n",
       "  <matplotlib.axis.XTick at 0x7fba620a7f10>,\n",
       "  <matplotlib.axis.XTick at 0x7fba620ae590>,\n",
       "  <matplotlib.axis.XTick at 0x7fba620a73d0>],\n",
       " <a list of 10 Text xticklabel objects>)"
      ]
     },
     "execution_count": 10,
     "metadata": {},
     "output_type": "execute_result"
    },
    {
     "data": {
      "image/png": "[encoded data removed]",
      "text/plain": [
       "<Figure size 432x288 with 1 Axes>"
      ]
     },
     "metadata": {
      "needs_background": "light"
     },
     "output_type": "display_data"
    }
   ],
   "source": [
    "#split_screen\n",
    "height = [0.657,0.649,0.637,0.603,0.603,0.599,0.599, 0.598,0.594,0.590]\n",
    "bars = ('replay_kit','local_multiplayer','asynchronous','ai_opponent','game_centre',\n",
    "        'multiplayer','mode','head_head','difficulty_setting','multitasking')\n",
    "y_pos = np.arange(len(bars))\n",
    "palette = plt.get_cmap('Set3')\n",
    "plt.title('\"split_screen\" Relevant Text')\n",
    "plt.ylabel('Cosine Similarity')\n",
    "# Limits for the Y axis\n",
    "plt.ylim(0,1)\n",
    "# Create names\n",
    "plt.bar(y_pos, height,color=['blue','purple',palette(2),palette(3),palette(4),\n",
    "                             palette(5),palette(6),palette(7),palette(8),'red'])\n",
    "plt.xticks(y_pos, bars,rotation=70)"
   ]
  },
  {
   "cell_type": "code",
   "execution_count": 11,
   "metadata": {},
   "outputs": [
    {
     "data": {
      "text/plain": [
       "([<matplotlib.axis.XTick at 0x7fba61f97fd0>,\n",
       "  <matplotlib.axis.XTick at 0x7fba620e8650>,\n",
       "  <matplotlib.axis.XTick at 0x7fba620e8410>,\n",
       "  <matplotlib.axis.XTick at 0x7fba621b4c10>,\n",
       "  <matplotlib.axis.XTick at 0x7fba621bf250>,\n",
       "  <matplotlib.axis.XTick at 0x7fba621bf810>,\n",
       "  <matplotlib.axis.XTick at 0x7fba621bfe90>,\n",
       "  <matplotlib.axis.XTick at 0x7fba621c5510>,\n",
       "  <matplotlib.axis.XTick at 0x7fba621c5b50>,\n",
       "  <matplotlib.axis.XTick at 0x7fba621c55d0>],\n",
       " <a list of 10 Text xticklabel objects>)"
      ]
     },
     "execution_count": 11,
     "metadata": {},
     "output_type": "execute_result"
    },
    {
     "data": {
      "image/png": "[encoded data removed]",
      "text/plain": [
       "<Figure size 432x288 with 1 Axes>"
      ]
     },
     "metadata": {
      "needs_background": "light"
     },
     "output_type": "display_data"
    }
   ],
   "source": [
    "#arcade_mode\n",
    "height = [0.678,0.676,0.674,0.670,0.646,0.643,0.634,0.617, 0.609, 0.594]\n",
    "bars = ('test_skill','try_beat','high_score','global_leaderboard','game_centre',\n",
    "        'online_leaderboard','challenge','difficulty_mode','easy_normal','mode')\n",
    "y_pos = np.arange(len(bars))\n",
    "palette = plt.get_cmap('Set3')\n",
    "plt.title('\"arcade_mode\" Relevant Text')\n",
    "plt.ylabel('Cosine Similarity')\n",
    "# Limits for the Y axis\n",
    "plt.ylim(0,1)\n",
    "# Create names\n",
    "plt.bar(y_pos, height,color=['blue','purple',palette(2),palette(3),palette(4),\n",
    "                             palette(5), palette(6),palette(7),palette(8),'red'])\n",
    "plt.xticks(y_pos, bars,rotation=70)"
   ]
  },
  {
   "cell_type": "code",
   "execution_count": null,
   "metadata": {},
   "outputs": [],
   "source": []
  }
 ],
 "metadata": {
  "kernelspec": {
   "display_name": "Python 3",
   "language": "python",
   "name": "python3"
  },
  "language_info": {
   "codemirror_mode": {
    "name": "ipython",
    "version": 3
   },
   "file_extension": ".py",
   "mimetype": "text/x-python",
   "name": "python",
   "nbconvert_exporter": "python",
   "pygments_lexer": "ipython3",
   "version": "3.7.4"
  }
 },
 "nbformat": 4,
 "nbformat_minor": 2
}
